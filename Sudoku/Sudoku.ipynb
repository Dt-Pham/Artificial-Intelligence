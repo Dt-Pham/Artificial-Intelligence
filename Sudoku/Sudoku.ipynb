{
 "cells": [
  {
   "cell_type": "markdown",
   "metadata": {},
   "source": [
    "## What is a Sudoku?\n",
    "\n",
    "[Sudoku](https://en.wikipedia.org/wiki/Sudoku) is one of the world's most popular puzzles. It consists of a 9x9 grid, and the objective is to fill the grid with digits in such a way that each row, each column, and each of the 9 principal 3x3 subsquares contains all of the digits from 1 to 9. The detailed rules can be found, for example, [here](https://www.conceptispuzzles.com/index.aspx?uri=puzzle/sudoku/rules)."
   ]
  },
  {
   "cell_type": "markdown",
   "metadata": {},
   "source": [
    "The puzzle is given as partially completed grid, and the goal is to fill in the missing numbers. Below is an example of such grid. \n",
    "\n",
    "![alt-text](./images/sudoku-easy.png)"
   ]
  },
  {
   "cell_type": "markdown",
   "metadata": {},
   "source": [
    "## Goal of this project\n",
    "\n",
    "The main goal of this project is to build an itelligent agent that will solve every sudodu while introducing you to two powerful techniques that are used throughout the field of AI:\n",
    "\n",
    "- **Constraint Propagation**\n",
    "\n",
    "    When trying to solve a problem, you'll find that there are some local constraints to each square. These constraints help you narrow the possibilities for the answer, which can be very helpful. We will learn to extract the maximum information out of these constraints in order to get closer to our solution. Additionally, you'll see how we can repeatedly apply simple constraints to iteratively narrow the search space of possible sulutions. Constraint propagation can be used to solve a variety of problems such as calendar scheduling, and cryptographic puzzles.\n",
    "- **Search**\n",
    "\n",
    "    In the process of problem solving, we may get to the point where two or more possiblilities are available. What do we do? What if we branch out and consider both of them? Maybe one of them will lead us to a position in which three or more possibilities are available. Then we cana branch out again. At the end, we can create a whole tree of possibilities and find ways to traverse the tree until we find our solution. This is an example of how search can be used.\n",
    "\n",
    "These ideas may seem simple and they're actually intended to be! Through this lesson you'll see how AI is really composed of very simple ideas can can but put together to solve complex problems. Throughout this lesson, we challenge you to think of how you can apply these ideas to build AI agents to solve other puzzles and problems in your worlds.\n"
   ]
  },
  {
   "cell_type": "markdown",
   "metadata": {},
   "source": [
    "# Naming Conventions\n",
    "\n",
    "## Rows and Columns\n",
    "\n",
    "Since we're writing an agent to solve the Sudoku puzzle, let's start by laballing rows and columns.\n",
    "\n",
    "- The rows will be labelled by the letters A, B, C, D, E, F, G, H, I\n",
    "- The columns will be labelled by the numbers 1, 2, 3, 4, 5, 6, 7, 8, 9. Here we can see the unsolved and solve puzles with the labels for the rows and columns.\n",
    "- The 3x3 squares won't be labelled, but in the diagram, they can be seen with alternating colors of grey and white.\n",
    "\n",
    "![](./images/labels.png)\n",
    "\n",
    "## Boxes, Units and Peers\n",
    "\n",
    "And let's start naming the important elements created by these rows and columns that are relevant to solving a Sudoku:\n",
    "- The individual squares at the intersection of rows and columns will be called `boxes`. These boxes will have labels 'A1', 'A2', ..., 'I9'.\n",
    "- The complete rows, columns, and 3x3 squares will be called `units`. Thus, each unit is a set of 9 boxes, and there are 27 units in total.\n",
    "- For a particular box (such as 'A1'), its `peers` will be all other boxes that belong to a common unit (namely, those that belong to the same row, colun, or 3x3 square).\n",
    "\n",
    "Let's see an example. In the grids below, the set of highlighted boxes represent `units`. Each grid shows a different `peer` of the box at E3.\n",
    "\n",
    "![](./images/peers.png)"
   ]
  },
  {
   "cell_type": "code",
   "execution_count": null,
   "metadata": {},
   "outputs": [],
   "source": []
  }
 ],
 "metadata": {
  "file_extension": ".py",
  "kernelspec": {
   "display_name": "Python 3",
   "language": "python",
   "name": "python3"
  },
  "language_info": {
   "codemirror_mode": {
    "name": "ipython",
    "version": 3
   },
   "file_extension": ".py",
   "mimetype": "text/x-python",
   "name": "python",
   "nbconvert_exporter": "python",
   "pygments_lexer": "ipython3",
   "version": "3.7.4"
  },
  "mimetype": "text/x-python",
  "name": "python",
  "npconvert_exporter": "python",
  "pygments_lexer": "ipython3",
  "version": 3
 },
 "nbformat": 4,
 "nbformat_minor": 2
}
