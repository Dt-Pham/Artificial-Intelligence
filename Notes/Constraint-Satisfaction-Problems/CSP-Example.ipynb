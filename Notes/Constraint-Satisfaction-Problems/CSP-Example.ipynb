{
 "nbformat": 4,
 "nbformat_minor": 2,
 "metadata": {
  "language_info": {
   "name": "python",
   "codemirror_mode": {
    "name": "ipython",
    "version": 3
   }
  },
  "orig_nbformat": 2,
  "file_extension": ".py",
  "mimetype": "text/x-python",
  "name": "python",
  "npconvert_exporter": "python",
  "pygments_lexer": "ipython3",
  "version": 3
 },
 "cells": [
  {
   "cell_type": "markdown",
   "metadata": {},
   "source": [
    "# Constraint Satisfaction Problem Examples\n",
    "\n",
    "The lessons and coding exercise will deal with several examples of constraint satisfaction problems, some of which are defined below. A constrant satisfaction problem is defined mathematically as a set of variables, a set of domains for each variable, and a set of constraints that limit which values in each domain are a valid assignment for each variable. For each example problem below we'll cover one possible choice of  variables, domains, and constraint, although others are often possible because CSPs are very flexible.\n",
    "\n",
    "As you read throught the examples, try to think of other problems fromt he real world that can be reprensented in the CSP framework-like scheduling meettings for a conference room, or building a seating chart for a wedding reception."
   ]
  },
  {
   "cell_type": "markdown",
   "metadata": {},
   "source": [
    "## Define Constraint Satisfaction Problems\n",
    "Constraint Satisfaction Problems can be framed as a Triple <X, D, C>:\n",
    "- `X` is a set of variable, {X<sub>1</sub>, ..., X<sub>n</sub>}.\n",
    "    - dsaf\n",
    "- `D` is a set of domains, {D<sub>1</sub>, ..., D<sub>n</sub>}.\n",
    "- `C` is a set of constraints that specify allowable combinations of values.\n",
    "\n",
    "### Notes:\n",
    "1. Each domains D<sub>i</sub> consists of set of allowable values, {v<sub>1</sub>,...,v<sub>k</sub>} for variable X<sub>i</sub>.\n",
    "2. Each constrait C<sub>i</sub> sonsists of a pair `<scope, rel>` where `scope` is a tuple of variables that participate in the constraint and `rel` is a relation that defines the values tht those variables can take on.\n",
    "3. For example, If X<sub>1</sub> and X<sub>2</sub> both have the domain `{A, B}`, then the constraint saying the two variables must have different values can be written as _<(X<sub>1</sub>, X<sub>2</sub>), [(A, B), (B, A)]>_ or as _<(X<sub>1</sub>, X<sub>2</sub>, X1≠X2>_."
   ]
  },
  {
   "cell_type": "markdown",
   "metadata": {},
   "source": [
    "## Sudoku\n",
    "\n",
    "You've already seen Sudoku in the first project. Sudoku puzzles are given in a 9x9 grid that is partitioned into non-overlapping 3x3 groups. A puzzles is solved when each of the 81 boxes has been assigned a single digit between 1-9 such that every row, column, and 3x3 group contains exactly one copy of each digit 1-9.\n",
    "\n",
    "<p align=\"center\"> \n",
    "    <img src=\"images/sudoku-small.png\" />\n",
    "</p>\n",
    "\n",
    "### Sudoku CSP Definition\n",
    "- **Variables:** the 81 boxes that must be assigned a value\n",
    "- **Domains:** every variables has the same domain, the single digits 1-9\n",
    "- **Constraints:** each row, column, and 3x3 group must contain one of each digits 1-9"
   ]
  },
  {
   "cell_type": "markdown",
   "metadata": {},
   "source": [
    "## 4-Queens\n",
    "\n",
    "The 4-queens problem asks you to place 4 chess queens on a 4x4 grid such that nono of the queens are in \"check\" (i.e., no two queens occupy the same row, column, or diagonal). The problem can be expanded to standard 8x8 chessboards as the \"8-queens\" problem, or generalized to any NxN grid as the \"N-queens\" problem.\n",
    "\n",
    "<p align=\"center\">\n",
    "    <img src=\"images/4-queens.png\" />\n",
    "</p>\n",
    "\n",
    "### 4-Queens CSP Definition\n",
    "- **Variables:** the row assignment of each of the 4 queens (the variables represent the queen assigned to each of the four columns)\n",
    "- **Domains:** every variables has the same domain, the single digits 1-4\n",
    "- **Constraints:** No pair of queens can be on the same row or diagonal"
   ]
  },
  {
   "cell_type": "markdown",
   "metadata": {},
   "source": [
    "## Map coloring\n",
    "\n",
    "Map coloring is a problem that asks for an assigment of distinct colors to each region of the map. (While it seems like a trivial problem, map coloring is an intuitive way to describe more complex equivalent problems relevant in other parts of computer science.)\n",
    "\n",
    "<p align=\"center\">\n",
    "    <img src=\"images/map-coloring-small.png\" />\n",
    "</p>\n",
    "\n",
    "### Map Coloring CSP Definition\n",
    "- **Variables:** One for each region of the map (in this case WA, NT, SA, Q, NSW, V and T)\n",
    "    - X = {WA, NT, Q, NSW, V, SA, T}\n",
    "- **Domains:** All variables have the same domain, the list of colors that may be assigned to each region\n",
    "    - D<sub>i</sub> = {red, green, blue}\n",
    "- **Constraint:** No pair of adjacent regions can have the same coloring\n",
    "    - C = {SA≠WA, SA≠NT, SA≠Q, SA≠NSW, SA≠V, WA≠NT,NT≠Q, Q≠NSW, NSW≠V}"
   ]
  }
 ]
}