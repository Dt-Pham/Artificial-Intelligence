{
 "nbformat": 4,
 "nbformat_minor": 2,
 "metadata": {
  "language_info": {
   "name": "python",
   "codemirror_mode": {
    "name": "ipython",
    "version": 3
   }
  },
  "orig_nbformat": 2,
  "file_extension": ".py",
  "mimetype": "text/x-python",
  "name": "python",
  "npconvert_exporter": "python",
  "pygments_lexer": "ipython3",
  "version": 3
 },
 "cells": [
  {
   "cell_type": "markdown",
   "metadata": {},
   "source": [
    "## Search in CSPs\n",
    "\n",
    "The basic idea of searching for a solution in a CSP is that you guess assignment _var = value_ in order to advance to the next state until every variable is assigned to a valid value. If we used a standard depth first serach (which we'll cover in detail in a later module), then for _n_ variables each with _d_ possible values the branching factor of the resulting tree would be _nd_ at the top leval, _(n-1)d_ at the second level, _(n-2)d_ at the next level and so on. To total branching factor would be _n!d<sup>n</sup>_ when there are only _d<sup>n</sup>_ possible assignments.\n",
    "\n",
    "The animation belows show the node search order using depth first search with two variable _A_ which can be assigned a value in (0, 1, 2), and _B_ which can be assigned a value in (0, 1). Note that there are 1x3+1x2=5 children of the root node, and a total of 2x3+3x2=12 leaf nodes—every possible solution assignment is tested twice—and we'll test _many_ partial solutions that are **inconsistent** (at least one constraint is violated by the partial assignment). There are exactly the problems that backtracking fixes.\n",
    "\n",
    "![](images/dfs.gif)\n",
    "<center> Depth first search node traversal order </center>"
   ]
  },
  {
   "cell_type": "markdown",
   "metadata": {},
   "source": [
    "## Backtracking to aboid redundancy\n",
    "\n",
    "the depth first serach tries both assigning _A_ before _B_ **and** assigning _B_ before _A_. But the order of the assignments doesn't matter in finding a solution, so only one possible order needs to be tested. Backtracking is identical to depth first seach order, but it only evaluates a single assignment order for the variables and it reverts an assignments whenever the current state is inconsistent with any of the problem constraints. Backtracking will typically find a solution faster than depth first search.\n",
    "\n",
    "One key feature of backtracking search is that the choice of which variable to assign first and the choice of which value to assign can have a big impact on the efficiency of the search.\n",
    "\n",
    "The animation below shows the node search order on the same problem using one possible assignment order with backtracking search. (Note that we don't have any constraints involved, so it is identical to half of DFS in this case.) The backtracking search chooses one particular assignment order (in this case _A_ is assigned, then _B_) so there are only 1x3=3 children of the root node, and 3x2=6 leaf nodes.\n",
    "\n",
    "<p align=\"center\">\n",
    "    <img src=\"images/backtracking.gif\"/>\n",
    "</p>\n",
    "<center> Backtracking eliminates redundant subgraphs </center>"
   ]
  },
  {
   "cell_type": "markdown",
   "metadata": {},
   "source": [
    "## Aside: Local Search\n",
    "\n",
    "Although we won't spend much time on it in this section, another alternative to depth first or backtracking search is to use local search for solving CSPs. While depth first search and backtracking apply variable in the problem is always assigned to a concrete value (compare that to the root node of a dfs tree where _none_ of the variables are assigned).\n",
    "\n",
    "Local search operates by starting with a complete assignment, then modifying one or more of the variable values within some \"local neighborhood\" of the current assignment. For example, (_A_=1, _B=0) might change to (_A_=0, _B_=0) if we define the neighborhood as \"a single value can change +/-1\" (although other rules could also be chosen).\n",
    "\n",
    "The animation below shows one possible node search order on the example problem for some notional local search.\n",
    "\n",
    "<p align=\"center\">\n",
    "    <img src=\"images/local.gif\"/>\n",
    "</p>\n",
    "<center> Local search only considers complete assignments </center>"
   ]
  }
 ]
}